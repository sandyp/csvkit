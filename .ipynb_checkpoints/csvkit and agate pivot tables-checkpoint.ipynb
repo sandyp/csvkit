{
 "cells": [
  {
   "cell_type": "markdown",
   "metadata": {},
   "source": [
    "### Purpose:\n",
    "\n",
    "To get experience using CSVkit and the excel extension of Agate.\n",
    "\n",
    "The data we will be using is a subset of the United States Defense Logistic Agency Law Enforcement Support Office’s (LESO) 1033 Program dataset, which describes how surplus military arms have been distributed to local police forces. This data was widely cited in the aftermath of the Ferguson, Missouri protests. The particular data we are using comes from an NPR report analyzing the data.\n",
    "\n",
    "\n",
    "\n"
   ]
  },
  {
   "cell_type": "markdown",
   "metadata": {},
   "source": [
    "#### Load dependencies and globals"
   ]
  },
  {
   "cell_type": "code",
   "execution_count": 1,
   "metadata": {
    "collapsed": true
   },
   "outputs": [],
   "source": [
    "import csvkit\n",
    "import agate\n",
    "import agateexcel\n",
    "from agatehacks import to_one_place, Percent\n",
    "import os\n",
    "\n",
    "THIS_DIR = os.getcwd()\n"
   ]
  },
  {
   "cell_type": "markdown",
   "metadata": {
    "collapsed": true
   },
   "source": [
    "## CSVKIT\n",
    "### Read in the excel file and make CSV"
   ]
  },
  {
   "cell_type": "code",
   "execution_count": 2,
   "metadata": {
    "collapsed": false
   },
   "outputs": [],
   "source": [
    "# these 3 commands  work from the command line (from within the repo directory and an activated ve)\n",
    "# but not here inside the notebook.\n",
    "#Since csvkit was made to run from the command line there are things you have to add to make it run inside python.\n",
    "#because  agate replaces csvkit I decided to not worry about running csvkit within notebook.\n",
    "\n",
    "# in2csv ne_1033_data.xlsx  > LESO.csv\n",
    "# csvcut -n LESO.csv  see the columns\n",
    "# csvcut LESO.CSV |csvstat"
   ]
  },
  {
   "cell_type": "markdown",
   "metadata": {},
   "source": [
    "## Move to Agate"
   ]
  },
  {
   "cell_type": "markdown",
   "metadata": {},
   "source": [
    "### read the xlsx file and write out a csv"
   ]
  },
  {
   "cell_type": "code",
   "execution_count": 3,
   "metadata": {
    "collapsed": false
   },
   "outputs": [
    {
     "name": "stdout",
     "output_type": "stream",
     "text": [
      "|-------------------------------+---------------|\n",
      "|  column_names                 | column_types  |\n",
      "|-------------------------------+---------------|\n",
      "|  state                        | Text          |\n",
      "|  county                       | Text          |\n",
      "|  fips                         | Number        |\n",
      "|  nsn                          | Text          |\n",
      "|  item_name                    | Text          |\n",
      "|  quantity                     | Number        |\n",
      "|  ui                           | Text          |\n",
      "|  acquisition_cost             | Number        |\n",
      "|  total_cost                   | Number        |\n",
      "|  ship_date                    | Date          |\n",
      "|  federal_supply_category      | Number        |\n",
      "|  federal_supply_category_name | Text          |\n",
      "|  federal_supply_class         | Number        |\n",
      "|  federal_supply_class_name    | Text          |\n",
      "|-------------------------------+---------------|\n",
      "\n"
     ]
    }
   ],
   "source": [
    "#the documentation is wrong.   I need to pip install agate-excel not agateexcel\n",
    "agateexcel.patch()\n",
    "table = agate.Table.from_xls('ne_1033_data.xlsx')\n",
    "print(table)\n",
    "table.to_csv ('xxx.csv')"
   ]
  },
  {
   "cell_type": "markdown",
   "metadata": {},
   "source": [
    "### read the CSV file  made with  CSVKit(command line) into Agate \n",
    "### crosstabs the old way using aggregate and compute methods"
   ]
  },
  {
   "cell_type": "code",
   "execution_count": 4,
   "metadata": {
    "collapsed": false
   },
   "outputs": [
    {
     "name": "stdout",
     "output_type": "stream",
     "text": [
      "1036 rows in table\n",
      "|-------------------------------+---------------|\n",
      "|  column_names                 | column_types  |\n",
      "|-------------------------------+---------------|\n",
      "|  state                        | Text          |\n",
      "|  county                       | Text          |\n",
      "|  fips                         | Number        |\n",
      "|  nsn                          | Text          |\n",
      "|  item_name                    | Text          |\n",
      "|  quantity                     | Number        |\n",
      "|  ui                           | Text          |\n",
      "|  acquisition_cost             | Number        |\n",
      "|  total_cost                   | Number        |\n",
      "|  ship_date                    | Date          |\n",
      "|  federal_supply_category      | Number        |\n",
      "|  federal_supply_category_name | Text          |\n",
      "|  federal_supply_class         | Number        |\n",
      "|  federal_supply_class_name    | Text          |\n",
      "|-------------------------------+---------------|\n",
      "\n",
      "|--------+---------+--------+------------------+----------------------+----------+------+------------------+------------+------------+-------------------------+------------------------------+----------------------+----------------------------|\n",
      "|  state | county  |   fips | nsn              | item_name            | quantity | ui   | acquisition_cost | total_cost |  ship_date | federal_supply_category | federal_supply_category_name | federal_supply_class | federal_supply_class_name  |\n",
      "|--------+---------+--------+------------------+----------------------+----------+------+------------------+------------+------------+-------------------------+------------------------------+----------------------+----------------------------|\n",
      "|  NE    | ADAMS   | 31,001 | 1005-00-589-1271 | RIFLE,7.62 MILLIM... |        1 | Each |              138 |        138 | 2008-07-11 |                      10 | WEAPONS                      |                1,005 | Guns, through 30 mm        |\n",
      "|  NE    | ADAMS   | 31,001 | 1005-00-589-1271 | RIFLE,7.62 MILLIM... |        1 | Each |              138 |        138 | 2008-07-11 |                      10 | WEAPONS                      |                1,005 | Guns, through 30 mm        |\n",
      "|  NE    | ADAMS   | 31,001 | 1005-00-589-1271 | RIFLE,7.62 MILLIM... |        1 | Each |              138 |        138 | 2008-07-11 |                      10 | WEAPONS                      |                1,005 | Guns, through 30 mm        |\n",
      "|  NE    | ADAMS   | 31,001 | 1005-00-589-1271 | RIFLE,7.62 MILLIM... |        1 | Each |              138 |        138 | 2008-07-11 |                      10 | WEAPONS                      |                1,005 | Guns, through 30 mm        |\n",
      "|  NE    | ADAMS   | 31,001 | 1005-00-589-1271 | RIFLE,7.62 MILLIM... |        1 | Each |              138 |        138 | 2008-07-11 |                      10 | WEAPONS                      |                1,005 | Guns, through 30 mm        |\n",
      "|  NE    | ADAMS   | 31,001 | 1005-00-589-1271 | RIFLE,7.62 MILLIM... |        1 | Each |              138 |        138 | 2008-07-11 |                      10 | WEAPONS                      |                1,005 | Guns, through 30 mm        |\n",
      "|  NE    | BUFFALO | 31,019 | 1005-00-073-9421 | RIFLE,5.56 MILLIM... |        1 | Each |              499 |        499 | 2008-09-24 |                      10 | WEAPONS                      |                1,005 | Guns, through 30 mm        |\n",
      "|  NE    | BUFFALO | 31,019 | 1005-00-073-9421 | RIFLE,5.56 MILLIM... |        1 | Each |              499 |        499 | 2008-09-24 |                      10 | WEAPONS                      |                1,005 | Guns, through 30 mm        |\n",
      "|  NE    | BUFFALO | 31,019 | 1005-00-073-9421 | RIFLE,5.56 MILLIM... |        1 | Each |              499 |        499 | 2008-09-24 |                      10 | WEAPONS                      |                1,005 | Guns, through 30 mm        |\n",
      "|  NE    | BUFFALO | 31,019 | 1005-00-073-9421 | RIFLE,5.56 MILLIM... |        1 | Each |              499 |        499 | 2008-09-24 |                      10 | WEAPONS                      |                1,005 | Guns, through 30 mm        |\n",
      "|  NE    | BUFFALO | 31,019 | 1005-00-073-9421 | RIFLE,5.56 MILLIM... |        1 | Each |              499 |        499 | 2008-09-24 |                      10 | WEAPONS                      |                1,005 | Guns, through 30 mm        |\n",
      "|  NE    | BUFFALO | 31,019 | 1005-00-073-9421 | RIFLE,5.56 MILLIM... |        1 | Each |              499 |        499 | 2008-09-24 |                      10 | WEAPONS                      |                1,005 | Guns, through 30 mm        |\n",
      "|  NE    | BUFFALO | 31,019 | 1005-00-073-9421 | RIFLE,5.56 MILLIM... |        1 | Each |              499 |        499 | 2008-09-24 |                      10 | WEAPONS                      |                1,005 | Guns, through 30 mm        |\n",
      "|  NE    | BUFFALO | 31,019 | 1005-00-073-9421 | RIFLE,5.56 MILLIM... |        1 | Each |              499 |        499 | 2008-09-24 |                      10 | WEAPONS                      |                1,005 | Guns, through 30 mm        |\n",
      "|  NE    | BURT    | 31,021 | 1005-00-073-9421 | RIFLE,5.56 MILLIM... |        1 | Each |              499 |        499 | 2013-06-20 |                      10 | WEAPONS                      |                1,005 | Guns, through 30 mm        |\n",
      "|  ...   | ...     |    ... | ...              | ...                  |      ... | ...  |              ... |        ... |        ... |                     ... | ...                          |                  ... | ...                        |\n",
      "|--------+---------+--------+------------------+----------------------+----------+------+------------------+------------+------------+-------------------------+------------------------------+----------------------+----------------------------|\n",
      "|-----------------------+-------+----------|\n",
      "|  item_name            | count | percent  |\n",
      "|-----------------------+-------+----------|\n",
      "|  IMAGE INTENSIFIER... |   499 |    48.2  |\n",
      "|  RIFLE,5.56 MILLIM... |   157 |    15.2  |\n",
      "|  NIGHT VISION GOGGLE  |   105 |    10.1  |\n",
      "|  RIFLE,7.62 MILLIM... |    80 |     7.7  |\n",
      "|  OPTICAL SIGHTING ... |    70 |     6.8  |\n",
      "|  ...                  |   ... |     ...  |\n",
      "|-----------------------+-------+----------|\n"
     ]
    }
   ],
   "source": [
    "LESO = agate.Table.from_csv('LESO.csv')\n",
    "n = len(LESO.rows)\n",
    "print \"%s rows in table\" % n\n",
    "#x= type(LESO)\n",
    "#print 'LESO is of type %s' %x\n",
    "#print dir(LESO)\n",
    "\n",
    "\n",
    "\n",
    "#what aare the columns in LESO\n",
    "print(LESO)\n",
    "LESO.print_table(max_rows = 15)\n",
    "item_freq = LESO.group_by(\"item_name\")\n",
    "item_freq = item_freq.aggregate([\n",
    "    ('count', agate.Count())\n",
    "])\n",
    "\n",
    "item_freq = item_freq.compute([\n",
    "    ('percent', Percent('count')),\n",
    "])\n",
    "item_freq = item_freq.order_by('count', reverse=True)\n",
    "\n",
    "item_freq.print_table(max_rows=5)\n",
    "\n"
   ]
  },
  {
   "cell_type": "markdown",
   "metadata": {
    "collapsed": true
   },
   "source": [
    "### crosstabs using pivot tables by emulating excel\n",
    "####  from documentation at: http://agate.readthedocs.org/en/1.3.0/cookbook/excel.html#simple-formulas"
   ]
  },
  {
   "cell_type": "code",
   "execution_count": 5,
   "metadata": {
    "collapsed": false
   },
   "outputs": [
    {
     "name": "stdout",
     "output_type": "stream",
     "text": [
      "LESO is of type <class 'agate.table.Table'>\n",
      "*************WHY THE DIFFERENCE***********************************\n",
      "\n",
      "This  is dir of agate.table \n",
      "['__add__', '__class__', '__contains__', '__delattr__', '__doc__', '__eq__', '__format__', '__ge__', '__getattribute__', '__getitem__', '__getnewargs__', '__getslice__', '__gt__', '__hash__', '__init__', '__le__', '__len__', '__lt__', '__mod__', '__mul__', '__ne__', '__new__', '__reduce__', '__reduce_ex__', '__repr__', '__rmod__', '__rmul__', '__setattr__', '__sizeof__', '__str__', '__subclasshook__', '_formatter_field_name_split', '_formatter_parser', 'capitalize', 'center', 'count', 'decode', 'encode', 'endswith', 'expandtabs', 'find', 'format', 'index', 'isalnum', 'isalpha', 'isdigit', 'islower', 'isspace', 'istitle', 'isupper', 'join', 'ljust', 'lower', 'lstrip', 'partition', 'replace', 'rfind', 'rindex', 'rjust', 'rpartition', 'rsplit', 'rstrip', 'split', 'splitlines', 'startswith', 'strip', 'swapcase', 'title', 'translate', 'upper', 'zfill']\n",
      "\n",
      "This is dir of LESO\n",
      "['__class__', '__delattr__', '__dict__', '__doc__', '__format__', '__getattribute__', '__hash__', '__init__', '__module__', '__new__', '__reduce__', '__reduce_ex__', '__repr__', '__setattr__', '__sizeof__', '__str__', '__subclasshook__', '__unicode__', '__weakref__', '_column_names', '_column_types', '_columns', '_fork', '_row_names', '_rows', 'aggregate', 'bins', 'column_names', 'column_types', 'columns', 'compute', 'denormalize', 'distinct', 'exclude', 'find', 'from_csv', 'from_json', 'from_object', 'from_xls', 'from_xlsx', 'group_by', 'homogenize', 'join', 'limit', 'merge', 'monkeypatch', 'normalize', 'order_by', 'pivot', 'print_bars', 'print_csv', 'print_html', 'print_json', 'print_structure', 'print_table', 'rename', 'row_names', 'rows', 'select', 'to_csv', 'to_json', 'where']\n",
      "\n",
      "this is a count - no percent\n",
      "|-----------------------+--------|\n",
      "|  item_name            | Count  |\n",
      "|-----------------------+--------|\n",
      "|  RIFLE,7.62 MILLIM... |    80  |\n",
      "|  RIFLE,5.56 MILLIM... |   157  |\n",
      "|  TRUCK,CARGO          |     1  |\n",
      "|  PISTOL,CALIBER .4... |     6  |\n",
      "|  REVOLVER,CALIBER ... |     5  |\n",
      "|  ROBOT,EXPLOSIVE O... |     1  |\n",
      "|  TOOL KIT             |     3  |\n",
      "|  ILLUMINATOR,INFRARED |    21  |\n",
      "|  PLATOON EARLY WARNI  |     3  |\n",
      "|  SPECTACLES SET,BALL  |     2  |\n",
      "|  ...                  |   ...  |\n",
      "|-----------------------+--------|\n",
      "\n"
     ]
    }
   ],
   "source": [
    "x = type(LESO)\n",
    "print 'LESO is of type %s' %x\n",
    "print \"*************WHY THE DIFFERENCE***********************************\"\n",
    "print ''\n",
    "print 'This  is dir of agate.table '\n",
    "print dir('agate.table.Table')\n",
    "print ''\n",
    "print 'This is dir of LESO'\n",
    "print dir(LESO)\n",
    "print \"\"\n",
    "a = LESO.pivot('item_name')\n",
    "print 'this is a count - no percent'\n",
    "a.print_table(max_rows= 10)\n",
    "print ''\n",
    "\n",
    "\n"
   ]
  },
  {
   "cell_type": "markdown",
   "metadata": {},
   "source": [
    "#### this is a count - 2 way crosstabe - no percent'"
   ]
  },
  {
   "cell_type": "code",
   "execution_count": 6,
   "metadata": {
    "collapsed": false
   },
   "outputs": [
    {
     "name": "stdout",
     "output_type": "stream",
     "text": [
      "this is a count - 2 way crosstabe - no percent\n",
      "|-------------+-----------------------+-----------------------+-------------+------------------------------+------|\n",
      "|  county     | RIFLE,7.62 MILLIMETER | RIFLE,5.56 MILLIMETER | TRUCK,CARGO | PISTOL,CALIBER .45,AUTOMATIC | ...  |\n",
      "|-------------+-----------------------+-----------------------+-------------+------------------------------+------|\n",
      "|  ADAMS      |                     6 |                     0 |           0 |                            0 | ...  |\n",
      "|  BUFFALO    |                     0 |                     8 |           0 |                            0 | ...  |\n",
      "|  BURT       |                     1 |                     9 |           1 |                            0 | ...  |\n",
      "|  BUTLER     |                     1 |                     0 |           0 |                            0 | ...  |\n",
      "|  CASS       |                     0 |                    37 |           0 |                            0 | ...  |\n",
      "|  CHASE      |                     0 |                     4 |           0 |                            0 | ...  |\n",
      "|  COLFAX     |                     1 |                     7 |           0 |                            0 | ...  |\n",
      "|  DAKOTA     |                     0 |                     2 |           0 |                            5 | ...  |\n",
      "|  DAWES      |                     0 |                     7 |           0 |                            0 | ...  |\n",
      "|  DAWSON     |                    12 |                     0 |           0 |                            0 | ...  |\n",
      "|  DIXON      |                     0 |                     5 |           0 |                            0 | ...  |\n",
      "|  DODGE      |                     7 |                     0 |           0 |                            0 | ...  |\n",
      "|  DOUGLAS    |                    16 |                    14 |           0 |                            0 | ...  |\n",
      "|  FILLMORE   |                     0 |                     7 |           0 |                            0 | ...  |\n",
      "|  GAGE       |                     4 |                     0 |           0 |                            0 | ...  |\n",
      "|  GREELEY    |                     3 |                     0 |           0 |                            0 | ...  |\n",
      "|  HALL       |                     7 |                     4 |           0 |                            0 | ...  |\n",
      "|  HOLT       |                     6 |                     1 |           0 |                            1 | ...  |\n",
      "|  HOWARD     |                     0 |                     2 |           0 |                            0 | ...  |\n",
      "|  JEFFERSON  |                     2 |                     2 |           0 |                            0 | ...  |\n",
      "|  KEITH      |                     1 |                     4 |           0 |                            0 | ...  |\n",
      "|  KIMBALL    |                     0 |                     0 |           0 |                            0 | ...  |\n",
      "|  LANCASTER  |                     0 |                    10 |           0 |                            0 | ...  |\n",
      "|  MADISON    |                     2 |                     8 |           0 |                            0 | ...  |\n",
      "|  MCPHERSON  |                     0 |                     1 |           0 |                            0 | ...  |\n",
      "|  NANCE      |                     2 |                     2 |           0 |                            0 | ...  |\n",
      "|  NEMAHA     |                     1 |                     2 |           0 |                            0 | ...  |\n",
      "|  NUCKOLLS   |                     0 |                     2 |           0 |                            0 | ...  |\n",
      "|  POLK       |                     4 |                     2 |           0 |                            0 | ...  |\n",
      "|  RED WILLOW |                     4 |                     0 |           0 |                            0 | ...  |\n",
      "|  SARPY      |                     0 |                     6 |           0 |                            0 | ...  |\n",
      "|  SAUNDERS   |                     0 |                     1 |           0 |                            0 | ...  |\n",
      "|  THURSTON   |                     0 |                     4 |           0 |                            0 | ...  |\n",
      "|  WHEELER    |                     0 |                     1 |           0 |                            0 | ...  |\n",
      "|  YORK       |                     0 |                     5 |           0 |                            0 | ...  |\n",
      "|-------------+-----------------------+-----------------------+-------------+------------------------------+------|\n"
     ]
    }
   ],
   "source": [
    "\n",
    "\n",
    "print 'this is a count - 2 way crosstabe - no percent'\n",
    "a2 = LESO.where(lambda row: row['state'] != None or  row['item_name'] != None)\n",
    "a3 = a2.pivot('county', 'item_name')\n",
    "a3.print_table(max_columns= 5) \n"
   ]
  },
  {
   "cell_type": "markdown",
   "metadata": {},
   "source": [
    "#### this is a count - 2 way crosstabe - no percent'"
   ]
  },
  {
   "cell_type": "code",
   "execution_count": 7,
   "metadata": {
    "collapsed": false
   },
   "outputs": [
    {
     "name": "stdout",
     "output_type": "stream",
     "text": [
      "this is a count - 2 way crosstabe - no percent\n",
      "|--------+-------+---------+------+--------+------+-------+--------+--------+-------+------|\n",
      "|  state | ADAMS | BUFFALO | BURT | BUTLER | CASS | CHASE | COLFAX | DAKOTA | DAWES | ...  |\n",
      "|--------+-------+---------+------+--------+------+-------+--------+--------+-------+------|\n",
      "|  NE    |     6 |       8 |   11 |      1 |   37 |     4 |      8 |     42 |     7 | ...  |\n",
      "|--------+-------+---------+------+--------+------+-------+--------+--------+-------+------|\n"
     ]
    }
   ],
   "source": [
    "print 'this is a count - 2 way crosstabe - no percent'\n",
    "a1 = LESO.pivot('state', 'county')\n",
    "a1.print_table(max_columns= 10)\n"
   ]
  },
  {
   "cell_type": "markdown",
   "metadata": {},
   "source": [
    "#### pivot tables as summaries"
   ]
  },
  {
   "cell_type": "code",
   "execution_count": 8,
   "metadata": {
    "collapsed": false
   },
   "outputs": [
    {
     "name": "stdout",
     "output_type": "stream",
     "text": [
      "|-------------+--------------+------------------+-----------|\n",
      "|  county     | record_count | acquisition_cost | quantity  |\n",
      "|-------------+--------------+------------------+-----------|\n",
      "|  ADAMS      |            6 |           828.00 |        6  |\n",
      "|  BUFFALO    |            8 |         3,992.00 |        8  |\n",
      "|  BURT       |           11 |         5,099.00 |       11  |\n",
      "|  BUTLER     |            1 |           138.00 |        1  |\n",
      "|  CASS       |           37 |        16,189.00 |       37  |\n",
      "|  CHASE      |            4 |           480.00 |        4  |\n",
      "|  COLFAX     |            8 |           978.00 |        8  |\n",
      "|  DAKOTA     |           42 |        53,262.46 |      101  |\n",
      "|  DAWES      |            7 |           840.00 |        7  |\n",
      "|  DAWSON     |           12 |         1,656.00 |       12  |\n",
      "|  DIXON      |            5 |         2,495.00 |        5  |\n",
      "|  DODGE      |            7 |           966.00 |        7  |\n",
      "|  DOUGLAS    |          760 |     4,809,972.89 |    2,422  |\n",
      "|  FILLMORE   |            7 |         1,598.00 |        7  |\n",
      "|  GAGE       |            4 |           552.00 |        4  |\n",
      "|  GREELEY    |            3 |           414.00 |        3  |\n",
      "|  HALL       |           23 |         5,863.49 |      181  |\n",
      "|  HOLT       |            8 |         1,385.71 |        8  |\n",
      "|  HOWARD     |            2 |           619.00 |        2  |\n",
      "|  JEFFERSON  |            4 |         1,274.00 |        4  |\n",
      "|  KEITH      |            5 |         1,376.00 |        5  |\n",
      "|  KIMBALL    |            5 |        17,650.00 |        5  |\n",
      "|  LANCASTER  |           18 |       440,400.00 |       18  |\n",
      "|  MADISON    |           11 |         4,988.00 |       11  |\n",
      "|  MCPHERSON  |            1 |           499.00 |        1  |\n",
      "|  NANCE      |            4 |           895.00 |        4  |\n",
      "|  NEMAHA     |            3 |         1,136.00 |        3  |\n",
      "|  NUCKOLLS   |            2 |           998.00 |        2  |\n",
      "|  POLK       |            6 |         1,550.00 |        6  |\n",
      "|  RED WILLOW |            4 |           552.00 |        4  |\n",
      "|  SARPY      |            7 |        47,789.00 |        7  |\n",
      "|  SAUNDERS   |            1 |           499.00 |        1  |\n",
      "|  THURSTON   |            4 |         1,996.00 |        4  |\n",
      "|  WHEELER    |            1 |           120.00 |        1  |\n",
      "|  YORK       |            5 |         1,737.00 |        5  |\n",
      "|-------------+--------------+------------------+-----------|\n"
     ]
    }
   ],
   "source": [
    "\n",
    "\n",
    "jobs = LESO.group_by('county')\n",
    "summary = jobs.aggregate([\n",
    "    ('record_count', agate.Count()),\n",
    "    ('acquisition_cost', agate.Sum('acquisition_cost')),\n",
    "    ('quantity', agate.Sum('quantity'))\n",
    "])\n",
    "summary.print_table()\n"
   ]
  },
  {
   "cell_type": "markdown",
   "metadata": {
    "collapsed": true
   },
   "source": [
    "### crosstabs using pivot tables using Transform. \n",
    "- NOT SURE I LIKE THIS BETTER\n",
    "- http://agate.readthedocs.org/en/1.3.0/cookbook/transform.html#pivot-to-percent-of-total"
   ]
  },
  {
   "cell_type": "code",
   "execution_count": null,
   "metadata": {
    "collapsed": true
   },
   "outputs": [],
   "source": [
    " ### table can be pivoted to count the number occurences of values in a column:"
   ]
  },
  {
   "cell_type": "code",
   "execution_count": 9,
   "metadata": {
    "collapsed": false
   },
   "outputs": [
    {
     "name": "stdout",
     "output_type": "stream",
     "text": [
      "|----------+--------|\n",
      "|  county  | Count  |\n",
      "|----------+--------|\n",
      "|  ADAMS   |     6  |\n",
      "|  BUFFALO |     8  |\n",
      "|  BURT    |    11  |\n",
      "|  BUTLER  |     1  |\n",
      "|  CASS    |    37  |\n",
      "|  CHASE   |     4  |\n",
      "|  COLFAX  |     8  |\n",
      "|  DAKOTA  |    42  |\n",
      "|  DAWES   |     7  |\n",
      "|  DAWSON  |    12  |\n",
      "|  ...     |   ...  |\n",
      "|----------+--------|\n"
     ]
    }
   ],
   "source": [
    "transformed1 = LESO.pivot('county')\n",
    "transformed1.print_table(max_rows=10)\n"
   ]
  },
  {
   "cell_type": "code",
   "execution_count": 10,
   "metadata": {
    "collapsed": true
   },
   "outputs": [],
   "source": [
    "###Pivot by multiple columns - 2 way crosstab"
   ]
  },
  {
   "cell_type": "code",
   "execution_count": 11,
   "metadata": {
    "collapsed": false
   },
   "outputs": [
    {
     "name": "stdout",
     "output_type": "stream",
     "text": [
      "|----------+----------------------+--------|\n",
      "|  county  | item_name            | Count  |\n",
      "|----------+----------------------+--------|\n",
      "|  ADAMS   | RIFLE,7.62 MILLIM... |     6  |\n",
      "|  BUFFALO | RIFLE,5.56 MILLIM... |     8  |\n",
      "|  BURT    | RIFLE,5.56 MILLIM... |     9  |\n",
      "|  BURT    | RIFLE,7.62 MILLIM... |     1  |\n",
      "|  BURT    | TRUCK,CARGO          |     1  |\n",
      "|  BUTLER  | RIFLE,7.62 MILLIM... |     1  |\n",
      "|  CASS    | RIFLE,5.56 MILLIM... |    37  |\n",
      "|  CHASE   | RIFLE,5.56 MILLIM... |     4  |\n",
      "|  COLFAX  | RIFLE,7.62 MILLIM... |     1  |\n",
      "|  COLFAX  | RIFLE,5.56 MILLIM... |     7  |\n",
      "|  DAKOTA  | RIFLE,5.56 MILLIM... |     2  |\n",
      "|  DAKOTA  | PISTOL,CALIBER .4... |     5  |\n",
      "|  DAKOTA  | REVOLVER,CALIBER ... |     5  |\n",
      "|  DAKOTA  | ROBOT,EXPLOSIVE O... |     1  |\n",
      "|  DAKOTA  | TOOL KIT             |     3  |\n",
      "|  DAKOTA  | ILLUMINATOR,INFRARED |    21  |\n",
      "|  DAKOTA  | PLATOON EARLY WARNI  |     3  |\n",
      "|  DAKOTA  | SPECTACLES SET,BALL  |     2  |\n",
      "|  DAWES   | RIFLE,5.56 MILLIM... |     7  |\n",
      "|  DAWSON  | RIFLE,7.62 MILLIM... |    12  |\n",
      "|  ...     | ...                  |   ...  |\n",
      "|----------+----------------------+--------|\n"
     ]
    }
   ],
   "source": [
    "a2 = LESO.where(lambda row: row['state'] != None or  row['item_name'] != None)\n",
    "transformed2 = a2.pivot(['county', 'item_name'])\n",
    "transformed2.print_table(max_rows =20, max_columns = 5)\n"
   ]
  },
  {
   "cell_type": "markdown",
   "metadata": {
    "collapsed": true
   },
   "source": [
    "### Pivot to sum\n",
    " The default pivot aggregation is Count but you can also supply other operations. For example, to aggregate\n",
    " each group by Sum of their total costs:\n",
    " "
   ]
  },
  {
   "cell_type": "code",
   "execution_count": 12,
   "metadata": {
    "collapsed": false
   },
   "outputs": [
    {
     "name": "stdout",
     "output_type": "stream",
     "text": [
      "total cost of items by county\n",
      "|------------+-----------------------+-----------------------+-------------+------------------------------+------|\n",
      "|  county    | RIFLE,7.62 MILLIMETER | RIFLE,5.56 MILLIMETER | TRUCK,CARGO | PISTOL,CALIBER .45,AUTOMATIC | ...  |\n",
      "|------------+-----------------------+-----------------------+-------------+------------------------------+------|\n",
      "|  ADAMS     |                   828 |                     0 |           0 |                         0.00 | ...  |\n",
      "|  BUFFALO   |                     0 |                 3,992 |           0 |                         0.00 | ...  |\n",
      "|  BURT      |                   138 |                 1,838 |       3,123 |                         0.00 | ...  |\n",
      "|  BUTLER    |                   138 |                     0 |           0 |                         0.00 | ...  |\n",
      "|  CASS      |                     0 |                16,189 |           0 |                         0.00 | ...  |\n",
      "|  CHASE     |                     0 |                   480 |           0 |                         0.00 | ...  |\n",
      "|  COLFAX    |                   138 |                   840 |           0 |                         0.00 | ...  |\n",
      "|  DAKOTA    |                     0 |                   998 |           0 |                       293.55 | ...  |\n",
      "|  DAWES     |                     0 |                   840 |           0 |                         0.00 | ...  |\n",
      "|  DAWSON    |                 1,656 |                     0 |           0 |                         0.00 | ...  |\n",
      "|  DIXON     |                     0 |                 2,495 |           0 |                         0.00 | ...  |\n",
      "|  DODGE     |                   966 |                     0 |           0 |                         0.00 | ...  |\n",
      "|  DOUGLAS   |                 2,208 |                 6,986 |           0 |                         0.00 | ...  |\n",
      "|  FILLMORE  |                     0 |                 1,598 |           0 |                         0.00 | ...  |\n",
      "|  GAGE      |                   552 |                     0 |           0 |                         0.00 | ...  |\n",
      "|  GREELEY   |                   414 |                     0 |           0 |                         0.00 | ...  |\n",
      "|  HALL      |                   966 |                 1,996 |           0 |                         0.00 | ...  |\n",
      "|  HOLT      |                   828 |                   499 |           0 |                        58.71 | ...  |\n",
      "|  HOWARD    |                     0 |                   619 |           0 |                         0.00 | ...  |\n",
      "|  JEFFERSON |                   276 |                   998 |           0 |                         0.00 | ...  |\n",
      "|  ...       |                   ... |                   ... |         ... |                          ... | ...  |\n",
      "|------------+-----------------------+-----------------------+-------------+------------------------------+------|\n"
     ]
    }
   ],
   "source": [
    "#example:\n",
    "# Burt county got 1 truck,cargo(see above) and it cost $3123.\n",
    "# Burt county got 9 RIFLE,5.56 MILLIMeter at different prices  but the total was 1838 (verified) \n",
    "print 'total cost of items by county'\n",
    "transformed3 = a2.pivot('county', 'item_name', aggregation=agate.Sum('total_cost'))\n",
    "transformed3.print_table(max_rows =20, max_columns = 5)\n",
    "#transformed3.to_csv ('transformed3.csv')"
   ]
  },
  {
   "cell_type": "markdown",
   "metadata": {},
   "source": [
    "### Pivot to percent of total ( the total of all cells, not just the total of a row)"
   ]
  },
  {
   "cell_type": "code",
   "execution_count": 29,
   "metadata": {
    "collapsed": false
   },
   "outputs": [
    {
     "name": "stdout",
     "output_type": "stream",
     "text": [
      " example from documentation\n",
      "table used for example:\n",
      "|--------+--------+--------+------|\n",
      "|  name  | race   | gender | age  |\n",
      "|--------+--------+--------+------|\n",
      "|  joe   | white  | female |  20  |\n",
      "|  Jane  | asian  | male   |  20  |\n",
      "|  Jill  | black  | female |  20  |\n",
      "|  Jim   | latino | male   |  25  |\n",
      "|  Julia | black  | female |  25  |\n",
      "|  Joan  | asian  | female |  25  |\n",
      "|--------+--------+--------+------|\n",
      "\n",
      "count race\n",
      "|---------+--------|\n",
      "|  race   | Count  |\n",
      "|---------+--------|\n",
      "|  white  |     1  |\n",
      "|  asian  |     2  |\n",
      "|  black  |     2  |\n",
      "|  latino |     1  |\n",
      "|---------+--------|\n",
      "\n",
      "race by gender- sum on age\n",
      "total of all ages is 135\n",
      "|---------+--------+-------|\n",
      "|  race   | female | male  |\n",
      "|---------+--------+-------|\n",
      "|  white  |     20 |    0  |\n",
      "|  asian  |     25 |   20  |\n",
      "|  black  |     45 |    0  |\n",
      "|  latino |      0 |   25  |\n",
      "|---------+--------+-------|\n",
      "\n",
      "percent cell is of total ( pivot to percent of total)\n",
      "|---------+----------------------+-----------------------|\n",
      "|  race   |               female |                 male  |\n",
      "|---------+----------------------+-----------------------|\n",
      "|  white  | 14.81481481481481... | 0E,-26.0000000000...  |\n",
      "|  asian  | 18.51851851851851... | 14.81481481481481...  |\n",
      "|  black  | 33.33333333333333... | 0E,-26.0000000000...  |\n",
      "|  latino | 0E,-26.0000000000... | 18.51851851851851...  |\n",
      "|---------+----------------------+-----------------------|\n",
      "\n",
      "percent cell rounded from Ben and requires agatehacks to be imported\n",
      "|---------+----------------------+----------------------+-------------------------+------------------------|\n",
      "|  race   |               female |                 male | female_percent_of_total | male_percent_of_total  |\n",
      "|---------+----------------------+----------------------+-------------------------+------------------------|\n",
      "|  white  | 14.81481481481481... | 0E,-26.0000000000... |                    14.8 |                   0.0  |\n",
      "|  asian  | 18.51851851851851... | 14.81481481481481... |                    18.5 |                  14.8  |\n",
      "|  black  | 33.33333333333333... | 0E,-26.0000000000... |                    33.3 |                   0.0  |\n",
      "|  latino | 0E,-26.0000000000... | 18.51851851851851... |                     0.0 |                  18.5  |\n",
      "|---------+----------------------+----------------------+-------------------------+------------------------|\n",
      "***** end of example ************************\n",
      "\n",
      "\n",
      "back to the LESO data\n",
      "\n",
      "\n",
      "\n",
      " here is another way to round  using from decimal import Decimal\n"
     ]
    }
   ],
   "source": [
    "#using the example in the documentation: http://agate.readthedocs.org/en/1.3.0/cookbook/transform.html#pivot-to-percent-of-total\n",
    "\n",
    "\n",
    "print ' example from documentation'\n",
    "agateexcel.patch()\n",
    "ex = agate.Table.from_xls('pivot_to_percent_example.xlsx')\n",
    "print 'table used for example:'\n",
    "ex.print_table()\n",
    "print ''\n",
    "print 'count race'\n",
    "ex2 = ex.pivot('race')\n",
    "ex2.print_table()\n",
    "print''\n",
    "print 'race by gender- sum on age'\n",
    "print 'total of all ages is 135'\n",
    "ex3 = ex.pivot('race', 'gender', aggregation=agate.Sum('age'))\n",
    "ex3.print_table()\n",
    "print''\n",
    "print 'percent cell is of total ( pivot to percent of total)'\n",
    "ex4 = ex.pivot('race', 'gender', aggregation=agate.Sum('age'), computation=agate.Percent('Sum'))\n",
    "ex4.print_table()\n",
    "print''\n",
    "print 'percent cell rounded from Ben and requires agatehacks to be imported'\n",
    "ex5 = ex4.compute([\n",
    "   ('female_percent_of_total', agate.Formula(\n",
    "        agate.Number(),\n",
    "        lambda row: to_one_place((row['female'])\n",
    "    ))),\n",
    "         ('male_percent_of_total', agate.Formula(\n",
    "         agate.Number(),\n",
    "         lambda row: to_one_place((row['male'])\n",
    "     ))),\n",
    "\n",
    "])\n",
    "ex5.print_table()\n",
    "\n",
    "print '***** end of example ************************'\n",
    "\n",
    "\n",
    "\n",
    "\n",
    "print \"\"\n",
    "print \"\"\n",
    "print 'back to the LESO data'\n",
    "transformed4 =  a2.pivot('county', 'item_name', aggregation=agate.Sum('total_cost'),computation=agate.Percent('Sum'))\n",
    "#transformed4.print_table(max_rows =20, max_columns = 5)\n",
    "print \"\"\n",
    "print \"\"\n",
    "transformed5 = transformed4.compute([\n",
    "   ('pct_RIFLE,7.62_of_total', agate.Formula(\n",
    "        agate.Number(),\n",
    "        lambda row: to_one_place((row['RIFLE,7.62 MILLIMETER'])\n",
    "    ))),\n",
    "         ('pct_RIFLE,5.56_of_total', agate.Formula(\n",
    "         agate.Number(),\n",
    "         lambda row: to_one_place((row['RIFLE,5.56 MILLIMETER'])\n",
    "     ))),\n",
    "\n",
    "])\n",
    "\n",
    "\n",
    "print\"\"\n",
    "print ' here is another way to round  using from decimal import Decimal'\n",
    "\n",
    "from decimal import Decimal\n",
    "\n",
    "number_type = agate.Number()\n",
    "\n",
    "def round_price(row):\n",
    "    return row['TRUCK,CARGO'].quantize(Decimal('0.01'))\n",
    "\n",
    "transformed5 = transformed5.compute([\n",
    "    ('pct_TRUCK,CARGO_of_total', agate.Formula(number_type, round_price))\n",
    "])\n",
    "\n",
    "#so I can see my data\n",
    "transformed5.to_csv ('transformed5.csv')\n",
    "transformed6 = transformed5.select([\n",
    "    'county',\n",
    "    'RIFLE,5.56 MILLIMETER',\n",
    "    'pct_RIFLE,5.56_of_total',\n",
    "    'RIFLE,7.62 MILLIMETER',\n",
    "    'pct_RIFLE,7.62_of_total',\n",
    "    'TRUCK,CARGO',\n",
    "    'pct_TRUCK,CARGO_of_total' ,   \n",
    "]).order_by('county')\n",
    "transformed6.to_csv ('transformed6.csv')\n",
    "\n",
    "\n"
   ]
  },
  {
   "cell_type": "code",
   "execution_count": null,
   "metadata": {
    "collapsed": true
   },
   "outputs": [],
   "source": []
  }
 ],
 "metadata": {
  "kernelspec": {
   "display_name": "Python 2",
   "language": "python",
   "name": "python2"
  },
  "language_info": {
   "codemirror_mode": {
    "name": "ipython",
    "version": 2
   },
   "file_extension": ".py",
   "mimetype": "text/x-python",
   "name": "python",
   "nbconvert_exporter": "python",
   "pygments_lexer": "ipython2",
   "version": "2.7.2"
  }
 },
 "nbformat": 4,
 "nbformat_minor": 0
}
